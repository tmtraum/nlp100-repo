{
 "cells": [
  {
   "cell_type": "markdown",
   "metadata": {},
   "source": [
    "## 00.文字列\n",
    "”stressed”の文字を逆に（末尾から先頭に向かって）並べた文字列を得よ．"
   ]
  },
  {
   "cell_type": "code",
   "execution_count": 2,
   "metadata": {},
   "outputs": [
    {
     "name": "stdout",
     "output_type": "stream",
     "text": [
      "desserts\n"
     ]
    }
   ],
   "source": [
    "str00 = \"stressed\"\n",
    "print(str00[::-1])"
   ]
  },
  {
   "cell_type": "markdown",
   "metadata": {},
   "source": [
    "## 01. 「パタトクカシーー」\n",
    "「パタトクカシーー」という文字列の1,3,5,7文字目を取り出して連結した文字列を得よ．"
   ]
  },
  {
   "cell_type": "code",
   "execution_count": 1,
   "metadata": {},
   "outputs": [
    {
     "name": "stdout",
     "output_type": "stream",
     "text": [
      "パトカー\n"
     ]
    }
   ],
   "source": [
    "str01 = \"パタトクカシー\"\n",
    "ans = str01[::2]\n",
    "print(ans)"
   ]
  },
  {
   "cell_type": "markdown",
   "metadata": {},
   "source": [
    "## 02. 「パトカー」＋「タクシー」＝「パタトクカシーー」\n",
    "パトカー」＋「タクシー」の文字を先頭から交互に連結して文字列「パタトクカシーー」を得よ．"
   ]
  },
  {
   "cell_type": "code",
   "execution_count": 3,
   "metadata": {},
   "outputs": [
    {
     "name": "stdout",
     "output_type": "stream",
     "text": [
      "パタトクカシーー\n"
     ]
    }
   ],
   "source": [
    "str02_a = \"パトカー\"\n",
    "str02_b = \"タクシー\"\n",
    "\n",
    "ans = ''.join([i + j for i, j in zip(str02_a, str02_b)])\n",
    "print(ans)"
   ]
  },
  {
   "cell_type": "markdown",
   "metadata": {},
   "source": [
    "## 03.円周率\n",
    "“Now I need a drink, alcoholic of course, after the heavy lectures involving quantum mechanics.”という文を単語に分解し，\n",
    "各単語の（アルファベットの）文字数を先頭から出現順に並べたリストを作成せよ．"
   ]
  },
  {
   "cell_type": "code",
   "execution_count": 23,
   "metadata": {},
   "outputs": [
    {
     "name": "stdout",
     "output_type": "stream",
     "text": [
      "[3, 1, 4, 1, 5, 9, 2, 6, 5, 3, 5, 8, 9, 7, 9]\n"
     ]
    }
   ],
   "source": [
    "raw_text = \"Now I need a drink, alcoholic of course, after the heavy lectures involving quantum mechanics.\"\n",
    "text = raw_text.replace('.', '').replace(',','')\n",
    "\n",
    "ans = [len(w) for w in text.split()]\n",
    "\n",
    "print(ans)\n"
   ]
  },
  {
   "cell_type": "markdown",
   "metadata": {},
   "source": [
    "## 04. 元素記号\n",
    "“Hi He Lied Because Boron Could Not Oxidize Fluorine. New Nations Might Also Sign Peace Security Clause. Arthur King Can.”\n",
    " という文を単語に分解し，1, 5, 6, 7, 8, 9, 15, 16, 19番目の単語は先頭の1文字，\n",
    "それ以外の単語は先頭の2文字を取り出し，取り出した文字列から単語の位置（先頭から何番目の単語か）への\n",
    "連想配列（辞書型もしくはマップ型）を作成せよ．"
   ]
  },
  {
   "cell_type": "code",
   "execution_count": 5,
   "metadata": {},
   "outputs": [
    {
     "name": "stdout",
     "output_type": "stream",
     "text": [
      "{1: 'H', 2: 'He', 3: 'Li', 4: 'Be', 5: 'B', 6: 'C', 7: 'N', 8: 'O', 9: 'F', 10: 'Ne', 11: 'Na', 12: 'Mi', 13: 'Al', 14: 'Si', 15: 'P', 16: 'S', 17: 'Cl', 18: 'Ar', 19: 'K', 20: 'Ca'}\n"
     ]
    }
   ],
   "source": [
    "# 未処理のテキストを入力\n",
    "raw_text = \"Hi He Lied Because Boron Could Not Oxidize Fluorine. New Nations Might Also Sign Peace Security Clause. Arthur King Can.\"\n",
    "\n",
    "# ピリオドを処理する\n",
    "text = raw_text.replace('.', '')\n",
    "#print(text)\n",
    "\n",
    "# 空の辞書を作成\n",
    "ans_dic= {}\n",
    "\n",
    "for idx, w in enumerate(text.split(),1):\n",
    "    if idx in (1,5,6,7,8,9,15,16,19):\n",
    "        val = w[0]\n",
    "    else:\n",
    "        val = w[:2]\n",
    "    ans_dic[idx] = val\n",
    "\n",
    "print(ans_dic)\n"
   ]
  },
  {
   "cell_type": "markdown",
   "metadata": {},
   "source": [
    "## 05. n-gram\n",
    "与えられたシーケンス（文字列やリストなど）からn-gramを作る関数を作成せよ．この関数を用い，”I am an NLPer”という文から単語bi-gram，文字bi-gramを得よ．\n"
   ]
  },
  {
   "cell_type": "code",
   "execution_count": 2,
   "metadata": {},
   "outputs": [
    {
     "name": "stdout",
     "output_type": "stream",
     "text": [
      "['I ', ' a', 'am', 'm ', ' N', 'NL', 'LP', 'Pe', 'er']\n",
      "[['I', 'am'], ['am', 'NLPer']]\n"
     ]
    }
   ],
   "source": [
    "def n_gram(target, n):\n",
    "    return[target[idx:idx+n] for idx in range(len(target) - n + 1)]\n",
    "\n",
    "target = 'I am NLPer'\n",
    "print(n_gram(target,2))\n",
    "\n",
    "words = target.split()\n",
    "print(n_gram(words,2))"
   ]
  },
  {
   "cell_type": "markdown",
   "metadata": {},
   "source": [
    "## 06. 集合\n",
    "“paraparaparadise”と”paragraph”に含まれる文字bi-gramの集合を，それぞれ, \n",
    "XとYとして求め，XとYの和集合，積集合，差集合を求めよ．さらに，’se’というbi-gramがXおよびYに含まれるかどうかを調べよ．\n"
   ]
  },
  {
   "cell_type": "code",
   "execution_count": 15,
   "metadata": {},
   "outputs": [
    {
     "name": "stdout",
     "output_type": "stream",
     "text": [
      "{'ap', 'di', 'ad', 'ag', 'ph', 'is', 'se', 'pa', 'gr', 'ra', 'ar'}\n",
      "{'ra', 'ap', 'ar', 'pa'}\n",
      "{'se', 'di', 'ad', 'is'}\n",
      "False\n"
     ]
    }
   ],
   "source": [
    "# def n_gramをそのまま流用。\n",
    "# setで集合を求める問題。\n",
    "\n",
    "def n_gram(target,n):\n",
    "    return[target[idx:idx + n] for idx in range(len(target) - n + 1)]\n",
    "\n",
    "text_x = 'paraparaparadise'\n",
    "text_y = 'paragraph'\n",
    "\n",
    "X = set(n_gram(text_x,2))\n",
    "Y = set(n_gram(text_y,2))\n",
    "\n",
    "print(X | Y) \n",
    "print(X & Y)\n",
    "print(X - Y)\n",
    "print('se' in (X & Y))"
   ]
  },
  {
   "cell_type": "markdown",
   "metadata": {},
   "source": [
    "## 07. テンプレートによる文生成\n",
    "引数x, y, zを受け取り「x時のyはz」という文字列を返す関数を実装せよ．さらに，x=12, y=”気温”, z=22.4として，実行結果を確認せよ．\n"
   ]
  },
  {
   "cell_type": "code",
   "execution_count": 4,
   "metadata": {},
   "outputs": [
    {
     "data": {
      "text/plain": [
       "'12時の気温は22.4'"
      ]
     },
     "execution_count": 4,
     "metadata": {},
     "output_type": "execute_result"
    }
   ],
   "source": [
    "def create_sentence(x,y,z):\n",
    "    return \"{}時の{}は{}\".format(x,y,z) \n",
    "\n",
    "create_sentence(12,\"気温\",22.4)\n"
   ]
  },
  {
   "cell_type": "markdown",
   "metadata": {},
   "source": [
    "## 08. 暗号文\n",
    "与えられた文字列の各文字を，以下の仕様で変換する関数cipherを実装せよ．\n",
    "- 英小文字ならば(219 - 文字コード)の文字に置換\n",
    "- その他の文字はそのまま出力\n",
    "この関数を用い，英語のメッセージを暗号化・復号化せよ．"
   ]
  },
  {
   "cell_type": "code",
   "execution_count": 14,
   "metadata": {},
   "outputs": [
    {
     "name": "stdout",
     "output_type": "stream",
     "text": [
      "原文:  The quick brown Fox jumps over the lazy Dog.\n",
      "暗号化: Tsv jfrxp yildm Flc qfnkh levi gsv ozab Dlt.\n",
      "復号化: The quick brown Fox jumps over the lazy Dog.\n"
     ]
    }
   ],
   "source": [
    "# 英小文字の判別： islower()\n",
    "# ord : 文字からアスキーコードへの変換\n",
    "# chr : アスキーコードから文字への変換\n",
    "\n",
    "def cipher(sentence): \n",
    "    result = ''\n",
    "    for c in sentence:\n",
    "        if c.islower():\n",
    "            result += chr(219 - ord(c))\n",
    "        else:\n",
    "            result += c\n",
    "    return result\n",
    "\n",
    "sentence = 'The quick brown Fox jumps over the lazy Dog.'\n",
    "print('原文: ',sentence)\n",
    "\n",
    "enigma = cipher(sentence)\n",
    "print('暗号化:', enigma)\n",
    "\n",
    "de_enigma = cipher(enigma)\n",
    "print('復号化:', de_enigma)"
   ]
  },
  {
   "cell_type": "markdown",
   "metadata": {},
   "source": [
    "## 09. Typoglycemia\n",
    "スペースで区切られた単語列に対して，各単語の先頭と末尾の文字は残し，それ以外の文字の順序をランダムに並び替えるプログラムを作成せよ．\n",
    "ただし，長さが４以下の単語は並び替えないこととする．適当な英語の文を与え，その実行結果を確認せよ．"
   ]
  },
  {
   "cell_type": "code",
   "execution_count": 22,
   "metadata": {},
   "outputs": [
    {
     "name": "stdout",
     "output_type": "stream",
     "text": [
      "Singasongofsenixcpe,apecoktfullofrye.Fourandtwetnybalbkdscir,bkeadinapie.\n"
     ]
    }
   ],
   "source": [
    "import random\n",
    "\n",
    "def words_shuffle(word):\n",
    "    # 単語が４文字以内であればそのまま\n",
    "    if len(word) <= 4:\n",
    "        return word\n",
    "    else:\n",
    "        # 始めと最後は並び替えなし、真ん中のみランダムシャッフルする\n",
    "        start = word[0]\n",
    "        end = word[-1]\n",
    "        others = random.sample(list(word[1:-1]), len(word[1:-1]))\n",
    "        return ''.join([start] + others + [end])\n",
    "    \n",
    "text = 'Sing a song of sixpence, a pocket full of rye. Four and twenty blackbirds, baked in a pie.'\n",
    "\n",
    "ans = [words_shuffle(w) for w in text.split()]\n",
    "print(''.join(ans))\n"
   ]
  }
 ],
 "metadata": {
  "kernelspec": {
   "display_name": "Python 3",
   "language": "python",
   "name": "python3"
  },
  "language_info": {
   "codemirror_mode": {
    "name": "ipython",
    "version": 3
   },
   "file_extension": ".py",
   "mimetype": "text/x-python",
   "name": "python",
   "nbconvert_exporter": "python",
   "pygments_lexer": "ipython3",
   "version": "3.7.6"
  }
 },
 "nbformat": 4,
 "nbformat_minor": 4
}
