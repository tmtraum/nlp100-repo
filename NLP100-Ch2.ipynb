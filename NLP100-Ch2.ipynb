{
 "cells": [
  {
   "cell_type": "markdown",
   "metadata": {},
   "source": [
    "## 10. 行数のカウント\n",
    "popular-names.txtは，アメリカで生まれた赤ちゃんの「名前」「性別」「人数」「年」をタブ区切り形式で格納したファイルである．以下の処理を行うプログラムを作成し，popular-names.txtを入力ファイルとして実行せよ．さらに，同様の処理をUNIXコマンドでも実行し，プログラムの実行結果を確認せよ．"
   ]
  },
  {
   "cell_type": "markdown",
   "metadata": {},
   "source": [
    "行数をカウントせよ．確認にはwcコマンドを用いよ．"
   ]
  },
  {
   "cell_type": "code",
   "execution_count": 1,
   "metadata": {},
   "outputs": [
    {
     "name": "stdout",
     "output_type": "stream",
     "text": [
      "/bin/sh: wget: command not found\r\n"
     ]
    }
   ],
   "source": [
    "!wget https://nlp100.github.io/data/popular-names.txt\n"
   ]
  },
  {
   "cell_type": "code",
   "execution_count": 2,
   "metadata": {},
   "outputs": [
    {
     "name": "stdout",
     "output_type": "stream",
     "text": [
      "2780\n"
     ]
    }
   ],
   "source": [
    "import pandas as pd\n",
    "\n",
    "df = pd.read_table('./popular-names.txt', header=None, sep='\\n', names=['name','sex', 'number','year'])\n",
    "print(len(df))"
   ]
  },
  {
   "cell_type": "code",
   "execution_count": 3,
   "metadata": {},
   "outputs": [
    {
     "name": "stdout",
     "output_type": "stream",
     "text": [
      "    2780 ./popular-names.txt\r\n"
     ]
    }
   ],
   "source": [
    "!wc -l ./popular-names.txt"
   ]
  },
  {
   "cell_type": "markdown",
   "metadata": {},
   "source": [
    "## 11. タブをスペースに置換\n",
    "タブ1文字につきスペース1文字に置換せよ．確認にはsedコマンド，trコマンド，もしくはexpandコマンドを用いよ"
   ]
  },
  {
   "cell_type": "code",
   "execution_count": 4,
   "metadata": {},
   "outputs": [],
   "source": [
    "import pandas as pd\n",
    "\n",
    "\n",
    "df = pd.read_csv('./popular-names.txt', sep='\\t', header=None)\n",
    "df.to_csv('./ans11.txt', sep=' ', index=False, header=None)"
   ]
  },
  {
   "cell_type": "code",
   "execution_count": 5,
   "metadata": {},
   "outputs": [
    {
     "name": "stdout",
     "output_type": "stream",
     "text": [
      "Mary\tF\t7065\t1880\r\n",
      "Anna\tF\t2604\t1880\r\n",
      "Emma\tF\t2003\t1880\r\n",
      "Elizabe h\tF\t1939\t1880\r\n",
      "Minnie\tF\t1746\t1880\r\n",
      "sed: stdout: Broken pipe\r\n"
     ]
    }
   ],
   "source": [
    "# 確認\n",
    "!sed -e 's/\\t/ /g' ./popular-names.txt | head -n 5"
   ]
  },
  {
   "cell_type": "markdown",
   "metadata": {},
   "source": [
    "\n",
    "## 12. 1列目をcol1.txtに，2列目をcol2.txtに保存\n",
    "各行の1列目だけを抜き出したものをcol1.txtに，2列目だけを抜き出したものをcol2.txtとしてファイルに保存せよ．確認にはcutコマンドを用いよ．"
   ]
  },
  {
   "cell_type": "code",
   "execution_count": 6,
   "metadata": {},
   "outputs": [
    {
     "name": "stdout",
     "output_type": "stream",
     "text": [
      "0         Mary\n",
      "1         Anna\n",
      "2         Emma\n",
      "3    Elizabeth\n",
      "4       Minnie\n",
      "Name: 0, dtype: object\n"
     ]
    }
   ],
   "source": [
    "col1 = df[0]\n",
    "col1.to_csv('./col1.txt', index=False)\n",
    "print(col1.head())"
   ]
  },
  {
   "cell_type": "code",
   "execution_count": 7,
   "metadata": {},
   "outputs": [
    {
     "name": "stdout",
     "output_type": "stream",
     "text": [
      "Mary\r\n",
      "Anna\r\n",
      "Emma\r\n",
      "Elizabeth\r\n",
      "Minnie\r\n"
     ]
    }
   ],
   "source": [
    "# 確認\n",
    "!cut -f 1 ./popular-names.txt > ./col1_chk.txt\n",
    "!cat ./col1_chk.txt | head -n 5"
   ]
  },
  {
   "cell_type": "code",
   "execution_count": 8,
   "metadata": {},
   "outputs": [
    {
     "name": "stdout",
     "output_type": "stream",
     "text": [
      "0    F\n",
      "1    F\n",
      "2    F\n",
      "3    F\n",
      "4    F\n",
      "Name: 1, dtype: object\n"
     ]
    }
   ],
   "source": [
    "col2 = df[1]\n",
    "col2.to_csv('./col2.txt', index=False)\n",
    "print(col2.head())"
   ]
  },
  {
   "cell_type": "code",
   "execution_count": 9,
   "metadata": {},
   "outputs": [
    {
     "name": "stdout",
     "output_type": "stream",
     "text": [
      "F\r\n",
      "F\r\n",
      "F\r\n",
      "F\r\n",
      "F\r\n"
     ]
    }
   ],
   "source": [
    "# 確認\n",
    "!cut -f 2 ./popular-names.txt > ./col2_chk.txt\n",
    "!cat ./col2_chk.txt | head -n 5"
   ]
  },
  {
   "cell_type": "markdown",
   "metadata": {},
   "source": [
    "## 13. col1.txtとcol2.txtをマージ\n",
    "12で作ったcol1.txtとcol2.txtを結合し，元のファイルの1列目と2列目をタブ区切りで\n",
    "並べたテキストファイルを作成せよ．確認にはpasteコマンドを用いよ．"
   ]
  },
  {
   "cell_type": "code",
   "execution_count": 10,
   "metadata": {},
   "outputs": [
    {
     "name": "stdout",
     "output_type": "stream",
     "text": [
      "           0  1\n",
      "0       Mary  F\n",
      "1       Anna  F\n",
      "2       Emma  F\n",
      "3  Elizabeth  F\n",
      "4     Minnie  F\n"
     ]
    }
   ],
   "source": [
    "col1 = pd.read_table('./col1.txt')\n",
    "col2 = pd.read_table('./col2.txt')\n",
    "merged_1_2 = pd.concat([col1, col2], axis=1)\n",
    "merged_1_2.to_csv('./merged_1_2.txt', sep='\\t', index=False)\n",
    "print(merged_1_2.head())"
   ]
  },
  {
   "cell_type": "code",
   "execution_count": 11,
   "metadata": {},
   "outputs": [
    {
     "name": "stdout",
     "output_type": "stream",
     "text": [
      "Mary\tF\r\n",
      "Anna\tF\r\n",
      "Emma\tF\r\n",
      "Elizabeth\tF\r\n",
      "Minnie\tF\r\n"
     ]
    }
   ],
   "source": [
    "# 確認\n",
    "!paste ./col1_chk.txt ./col2_chk.txt | head -n 5"
   ]
  },
  {
   "cell_type": "markdown",
   "metadata": {},
   "source": [
    "## 14. 先頭からN行を出力\n",
    "自然数Nをコマンドライン引数などの手段で受け取り，入力のうち先頭のN行だけを表示せよ．確認にはheadコマンドを用いよ．"
   ]
  },
  {
   "cell_type": "code",
   "execution_count": 12,
   "metadata": {
    "scrolled": true
   },
   "outputs": [
    {
     "name": "stdout",
     "output_type": "stream",
     "text": [
      "           0  1     2     3\n",
      "0       Mary  F  7065  1880\n",
      "1       Anna  F  2604  1880\n",
      "2       Emma  F  2003  1880\n",
      "3  Elizabeth  F  1939  1880\n",
      "4     Minnie  F  1746  1880\n",
      "5   Margaret  F  1578  1880\n",
      "6        Ida  F  1472  1880\n",
      "7      Alice  F  1414  1880\n",
      "8     Bertha  F  1320  1880\n",
      "9      Sarah  F  1288  1880\n"
     ]
    }
   ],
   "source": [
    "def output_head(N):\n",
    "  print(df.head(N))\n",
    "\n",
    "output_head(10)"
   ]
  },
  {
   "cell_type": "code",
   "execution_count": 13,
   "metadata": {},
   "outputs": [
    {
     "name": "stdout",
     "output_type": "stream",
     "text": [
      "Mary\tF\t7065\t1880\r\n",
      "Anna\tF\t2604\t1880\r\n",
      "Emma\tF\t2003\t1880\r\n",
      "Elizabeth\tF\t1939\t1880\r\n",
      "Minnie\tF\t1746\t1880\r\n",
      "Margaret\tF\t1578\t1880\r\n",
      "Ida\tF\t1472\t1880\r\n",
      "Alice\tF\t1414\t1880\r\n",
      "Bertha\tF\t1320\t1880\r\n",
      "Sarah\tF\t1288\t1880\r\n"
     ]
    }
   ],
   "source": [
    "# 確認\n",
    "!head -n 10 ./popular-names.txt"
   ]
  },
  {
   "cell_type": "markdown",
   "metadata": {},
   "source": [
    "## 15. 末尾のN行を出力\n",
    "自然数Nをコマンドライン引数などの手段で受け取り，入力のうち末尾のN行だけを表示せよ．確認にはtailコマンドを用いよ．"
   ]
  },
  {
   "cell_type": "code",
   "execution_count": 14,
   "metadata": {},
   "outputs": [
    {
     "name": "stdout",
     "output_type": "stream",
     "text": [
      "             0  1      2     3\n",
      "2775  Benjamin  M  13381  2018\n",
      "2776    Elijah  M  12886  2018\n",
      "2777     Lucas  M  12585  2018\n",
      "2778     Mason  M  12435  2018\n",
      "2779     Logan  M  12352  2018\n"
     ]
    }
   ],
   "source": [
    "def output_tail(N):\n",
    "    print(df.tail(N))\n",
    "    \n",
    "output_tail(5)"
   ]
  },
  {
   "cell_type": "code",
   "execution_count": 15,
   "metadata": {},
   "outputs": [
    {
     "name": "stdout",
     "output_type": "stream",
     "text": [
      "Benjamin\tM\t13381\t2018\r\n",
      "Elijah\tM\t12886\t2018\r\n",
      "Lucas\tM\t12585\t2018\r\n",
      "Mason\tM\t12435\t2018\r\n",
      "Logan\tM\t12352\t2018\r\n"
     ]
    }
   ],
   "source": [
    "# 確認\n",
    "!tail -n 5 ./popular-names.txt"
   ]
  },
  {
   "cell_type": "markdown",
   "metadata": {},
   "source": [
    "## 16. ファイルをN分割する\n",
    "自然数Nをコマンドライン引数などの手段で受け取り，入力のファイルを行単位でN分割せよ．同様の処理をsplitコマンドで実現せよ．"
   ]
  },
  {
   "cell_type": "code",
   "execution_count": 16,
   "metadata": {},
   "outputs": [
    {
     "name": "stdout",
     "output_type": "stream",
     "text": [
      "9    278\n",
      "8    278\n",
      "7    278\n",
      "6    278\n",
      "5    278\n",
      "4    278\n",
      "3    278\n",
      "2    278\n",
      "1    278\n",
      "0    278\n",
      "Name: sp, dtype: int64\n"
     ]
    }
   ],
   "source": [
    "def split_file(N):\n",
    "  tmp = df.reset_index(drop=False)\n",
    "  df_cut = pd.qcut(tmp.index, N, labels=[i for i in range(N)])\n",
    "  df_cut = pd.concat([df, pd.Series(df_cut, name='sp')], axis=1)\n",
    "\n",
    "  return df_cut\n",
    "\n",
    "df_cut = split_file(10)\n",
    "print(df_cut['sp'].value_counts())"
   ]
  },
  {
   "cell_type": "code",
   "execution_count": 17,
   "metadata": {},
   "outputs": [
    {
     "name": "stdout",
     "output_type": "stream",
     "text": [
      "           0  1     2     3 sp\n",
      "0       Mary  F  7065  1880  0\n",
      "1       Anna  F  2604  1880  0\n",
      "2       Emma  F  2003  1880  0\n",
      "3  Elizabeth  F  1939  1880  0\n",
      "4     Minnie  F  1746  1880  0\n"
     ]
    }
   ],
   "source": [
    "print(df_cut.head())"
   ]
  },
  {
   "cell_type": "code",
   "execution_count": 18,
   "metadata": {},
   "outputs": [
    {
     "name": "stdout",
     "output_type": "stream",
     "text": [
      "split: illegal option -- d\r\n",
      "usage: split [-a sufflen] [-b byte_count] [-l line_count] [-p pattern]\r\n",
      "             [file [prefix]]\r\n"
     ]
    }
   ],
   "source": [
    "# コマンドによる分割\n",
    "!split -l 200 -d ./popular-names.txt sp"
   ]
  },
  {
   "cell_type": "markdown",
   "metadata": {},
   "source": [
    "## 17. １列目の文字列の異なり\n",
    "1列目の文字列の種類（異なる文字列の集合）を求めよ．確認にはcut, sort, uniqコマンドを用いよ．"
   ]
  },
  {
   "cell_type": "code",
   "execution_count": 27,
   "metadata": {},
   "outputs": [
    {
     "name": "stdout",
     "output_type": "stream",
     "text": [
      "136\n"
     ]
    }
   ],
   "source": [
    "df = pd.read_csv('./popular-names.txt', sep='\\t', header=None)\n",
    "df_1 = df[0].unique()\n",
    "\n",
    "print(len(df_1))\n"
   ]
  },
  {
   "cell_type": "code",
   "execution_count": 28,
   "metadata": {},
   "outputs": [
    {
     "name": "stdout",
     "output_type": "stream",
     "text": [
      "     136\r\n"
     ]
    }
   ],
   "source": [
    "# 確認\n",
    "!cut -f 1 ./popular-names.txt | sort | uniq | wc -l"
   ]
  },
  {
   "cell_type": "markdown",
   "metadata": {},
   "source": [
    "\n",
    "## 18. 各行を3コラム目の数値の降順にソート\n",
    "各行を3コラム目の数値の逆順で整列せよ（注意: 各行の内容は変更せずに並び替えよ）．\n",
    "確認にはsortコマンドを用いよ（この問題はコマンドで実行した時の結果と合わなくてもよい）"
   ]
  },
  {
   "cell_type": "code",
   "execution_count": 29,
   "metadata": {},
   "outputs": [
    {
     "name": "stdout",
     "output_type": "stream",
     "text": [
      "            0  1      2     3\n",
      "1340    Linda  F  99689  1947\n",
      "1360    Linda  F  96211  1948\n",
      "1350    James  M  94757  1947\n",
      "1550  Michael  M  92704  1957\n",
      "1351   Robert  M  91640  1947\n",
      "...       ... ..    ...   ...\n",
      "27      Annie  F   1326  1881\n",
      "28     Bertha  F   1324  1881\n",
      "8      Bertha  F   1320  1880\n",
      "29      Alice  F   1308  1881\n",
      "9       Sarah  F   1288  1880\n",
      "\n",
      "[2780 rows x 4 columns]\n"
     ]
    }
   ],
   "source": [
    "df = pd.read_csv('./popular-names.txt', sep='\\t', header=None)\n",
    "print(df.sort_values(2, ascending=False))"
   ]
  },
  {
   "cell_type": "code",
   "execution_count": 30,
   "metadata": {},
   "outputs": [
    {
     "name": "stdout",
     "output_type": "stream",
     "text": [
      "Linda\tF\t99689\t1947\r\n",
      "Linda\tF\t96211\t1948\r\n",
      "James\tM\t94757\t1947\r\n",
      "Michael\tM\t92704\t1957\r\n",
      "Robert\tM\t91640\t1947\r\n",
      "sort: Broken pipe\r\n"
     ]
    }
   ],
   "source": [
    "!cat ./popular-names.txt | sort -rnk 3 | head -n 5"
   ]
  },
  {
   "cell_type": "markdown",
   "metadata": {},
   "source": [
    "\n",
    "## 19. 各行の1コラム目の文字列の出現頻度を求め，出現頻度の高い順に並べる\n",
    "各行の1列目の文字列の出現頻度を求め，その高い順に並べて表示せよ．確認にはcut, uniq, sortコマンドを用いよ．"
   ]
  },
  {
   "cell_type": "code",
   "execution_count": 31,
   "metadata": {},
   "outputs": [
    {
     "name": "stdout",
     "output_type": "stream",
     "text": [
      "James      118\n",
      "William    111\n",
      "John       108\n",
      "Robert     108\n",
      "Mary        92\n",
      "          ... \n",
      "Rachel       1\n",
      "Julie        1\n",
      "Scott        1\n",
      "Lori         1\n",
      "Carolyn      1\n",
      "Name: 0, Length: 136, dtype: int64\n"
     ]
    }
   ],
   "source": [
    "\n",
    "df = pd.read_csv('./popular-names.txt', sep='\\t', header=None)\n",
    "print(df[0].value_counts())"
   ]
  },
  {
   "cell_type": "code",
   "execution_count": 32,
   "metadata": {},
   "outputs": [
    {
     "name": "stdout",
     "output_type": "stream",
     "text": [
      " 118 James\r\n",
      " 111 William\r\n",
      " 108 Robert\r\n",
      " 108 John\r\n",
      "  92 Mary\r\n",
      "  75 Charles\r\n",
      "  74 Michael\r\n",
      "  73 Elizabeth\r\n",
      "  70 Joseph\r\n",
      "  60 Margaret\r\n",
      "  58 Thomas\r\n",
      "  58 George\r\n",
      "  57 David\r\n",
      "  51 Richard\r\n",
      "  45 Helen\r\n",
      "  43 Frank\r\n",
      "  43 Christopher\r\n",
      "  41 Anna\r\n",
      "  40 Edward\r\n",
      "  39 Ruth\r\n",
      "  38 Patricia\r\n",
      "  37 Matthew\r\n",
      "  36 Dorothy\r\n",
      "  35 Emma\r\n",
      "  32 Barbara\r\n",
      "  31 Joshua\r\n",
      "  31 Daniel\r\n",
      "  26 Sarah\r\n",
      "  26 Linda\r\n",
      "  26 Jennifer\r\n",
      "  26 Emily\r\n",
      "  25 Jessica\r\n",
      "  25 Jacob\r\n",
      "  24 Susan\r\n",
      "  24 Mildred\r\n",
      "  24 Betty\r\n",
      "  23 Henry\r\n",
      "  23 Ashley\r\n",
      "  22 Nancy\r\n",
      "  21 Andrew\r\n",
      "  20 Marie\r\n",
      "  20 Florence\r\n",
      "  20 Donald\r\n",
      "  20 Amanda\r\n",
      "  19 Samantha\r\n",
      "  18 Olivia\r\n",
      "  18 Melissa\r\n",
      "  18 Madison\r\n",
      "  18 Lisa\r\n",
      "  18 Karen\r\n",
      "  17 Stephanie\r\n",
      "  17 Abigail\r\n",
      "  16 Sandra\r\n",
      "  16 Mark\r\n",
      "  16 Ethel\r\n",
      "  15 Michelle\r\n",
      "  15 Isabella\r\n",
      "  15 Heather\r\n",
      "  15 Frances\r\n",
      "  15 Ethan\r\n",
      "  15 Carol\r\n",
      "  15 Angela\r\n",
      "  14 Shirley\r\n",
      "  14 Kimberly\r\n",
      "  14 Ava\r\n",
      "  14 Amy\r\n",
      "  13 Virginia\r\n",
      "  13 Sophia\r\n",
      "  13 Nicole\r\n",
      "  13 Jason\r\n",
      "  13 Hannah\r\n",
      "  13 Deborah\r\n",
      "  13 Brian\r\n",
      "  12 Minnie\r\n",
      "  12 Donna\r\n",
      "  12 Bertha\r\n",
      "  11 Cynthia\r\n",
      "  10 Ronald\r\n",
      "  10 Noah\r\n",
      "  10 Nicholas\r\n",
      "  10 Mia\r\n",
      "  10 Doris\r\n",
      "  10 Brittany\r\n",
      "  10 Alice\r\n",
      "   9 Tyler\r\n",
      "   9 Joan\r\n",
      "   9 Debra\r\n",
      "   8 Taylor\r\n",
      "   8 Mason\r\n",
      "   8 Judith\r\n",
      "   8 Ida\r\n",
      "   8 Clara\r\n",
      "   8 Alexis\r\n",
      "   8 Alexander\r\n",
      "   7 Tammy\r\n",
      "   7 Steven\r\n",
      "   7 Sharon\r\n",
      "   7 Liam\r\n",
      "   7 Harry\r\n",
      "   7 Brandon\r\n",
      "   6 Anthony\r\n",
      "   5 Jeffrey\r\n",
      "   5 Jayden\r\n",
      "   5 Gary\r\n",
      "   5 Charlotte\r\n",
      "   5 Annie\r\n",
      "   4 Lillian\r\n",
      "   4 Kathleen\r\n",
      "   4 Justin\r\n",
      "   4 Chloe\r\n",
      "   4 Benjamin\r\n",
      "   4 Austin\r\n",
      "   3 Megan\r\n",
      "   3 Harper\r\n",
      "   3 Evelyn\r\n",
      "   3 Elijah\r\n",
      "   3 Aiden\r\n",
      "   2 Rebecca\r\n",
      "   2 Oliver\r\n",
      "   2 Logan\r\n",
      "   2 Lauren\r\n",
      "   2 Larry\r\n",
      "   2 Bessie\r\n",
      "   2 Amelia\r\n",
      "   1 Walter\r\n",
      "   1 Tracy\r\n",
      "   1 Scott\r\n",
      "   1 Rachel\r\n",
      "   1 Pamela\r\n",
      "   1 Lucas\r\n",
      "   1 Lori\r\n",
      "   1 Laura\r\n",
      "   1 Kelly\r\n",
      "   1 Julie\r\n",
      "   1 Crystal\r\n",
      "   1 Carolyn\r\n"
     ]
    }
   ],
   "source": [
    "# 確認\n",
    "!cut -f 1 ./popular-names.txt | sort | uniq -c | sort -rn"
   ]
  },
  {
   "cell_type": "code",
   "execution_count": null,
   "metadata": {},
   "outputs": [],
   "source": []
  }
 ],
 "metadata": {
  "kernelspec": {
   "display_name": "Python 3",
   "language": "python",
   "name": "python3"
  },
  "language_info": {
   "codemirror_mode": {
    "name": "ipython",
    "version": 3
   },
   "file_extension": ".py",
   "mimetype": "text/x-python",
   "name": "python",
   "nbconvert_exporter": "python",
   "pygments_lexer": "ipython3",
   "version": "3.7.6"
  }
 },
 "nbformat": 4,
 "nbformat_minor": 4
}
